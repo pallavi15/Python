{
 "cells": [
  {
   "cell_type": "markdown",
   "id": "a3e140f3-9e37-44a0-bd4d-118c910e66c6",
   "metadata": {},
   "source": [
    "## Python functions:\n",
    "Python functions are a core component of the language, enabling developers to write modular, reusable, and organized code. A function in Python is a block of code that only runs when it is called. It can accept inputs (called parameters) and return an output (a value). Python functions help structure programs more efficiently, making them easier to maintain, debug, and extend."
   ]
  },
  {
   "cell_type": "code",
   "execution_count": 23,
   "id": "d671ac1b-82c4-48e6-9520-94e7c7e8d452",
   "metadata": {},
   "outputs": [],
   "source": [
    "#Define a function that takes in a string, and returns a matching string where every even letter is uppercase, \n",
    "#and every odd letter is lowercase. Assume that the incoming string only contains letters\n",
    "\n",
    "def spongecase(string):\n",
    "    out_str = []\n",
    "    for loc,w in enumerate(string):\n",
    "        if loc%2 == 0:\n",
    "            out_str.append(w.upper())\n",
    "        else:\n",
    "            out_str.append(w.lower())\n",
    "    return (''.join(out_str))\n",
    "            "
   ]
  },
  {
   "cell_type": "code",
   "execution_count": 25,
   "id": "a2986b05-dac2-450d-9c53-c9c508f0ee3b",
   "metadata": {},
   "outputs": [
    {
     "data": {
      "text/plain": [
       "\"My sNeAkEr wEnT SnOoZiNg, RiGhT UnDeR My bEd,\\nIt dReAmT Of rUnNiNg rAcEs, BuT StAyEd tHeRe iNsTeAd.\\nI TrIeD To wAkE It uP WiTh a tAp aNd a sHaKe,\\nBuT It jUsT YaWnEd aNd sAiD, 'No, I Am oN A BrEaK!'\""
      ]
     },
     "execution_count": 25,
     "metadata": {},
     "output_type": "execute_result"
    }
   ],
   "source": [
    "spongecase(\"My sneaker went snoozing, right under my bed,\\nIt dreamt of running races, but stayed there instead.\\nI tried to wake it up with a tap and a shake,\\nBut it just yawned and said, 'No, I am on a break!'\")"
   ]
  },
  {
   "cell_type": "code",
   "execution_count": 27,
   "id": "ef08a275-ac6a-4a51-865b-4dfc14d45c74",
   "metadata": {},
   "outputs": [
    {
     "data": {
      "text/plain": [
       "'WrItE AnYtHiNg hErE'"
      ]
     },
     "execution_count": 27,
     "metadata": {},
     "output_type": "execute_result"
    }
   ],
   "source": [
    "spongecase('write anything here')"
   ]
  },
  {
   "cell_type": "code",
   "execution_count": 29,
   "id": "e5554e7a-37e9-46e3-9404-bec016c69d6c",
   "metadata": {},
   "outputs": [],
   "source": [
    "#Define a function that takes in an arbitrary number of arguments, and returns a list containing only those arguments that are even.\n",
    "\n",
    "def even_list(*args):\n",
    "    out_list = []\n",
    "    for i in args:\n",
    "        if i%2 == 0:\n",
    "            out_list.append(i)\n",
    "    return out_list"
   ]
  },
  {
   "cell_type": "code",
   "execution_count": 76,
   "id": "ddd250f0-865d-410e-95c5-5bf549d14d7d",
   "metadata": {},
   "outputs": [
    {
     "data": {
      "text/plain": [
       "[20, 28, 70, 40]"
      ]
     },
     "execution_count": 76,
     "metadata": {},
     "output_type": "execute_result"
    }
   ],
   "source": [
    "even_list(1,20,13,28,70,40)"
   ]
  },
  {
   "cell_type": "code",
   "execution_count": 78,
   "id": "630c87d9-c779-4d31-a1b0-000c29e244a2",
   "metadata": {},
   "outputs": [],
   "source": [
    "#LESSER OF TWO EVENS: Write a function that returns the lesser of two given numbers if both numbers are even, but returns the greater if one or both numbers are odd\n",
    "def lesser_of_two_evens(a,b):\n",
    "    if a%2 == 0 and b%2 == 0:\n",
    "        return min(a,b)\n",
    "    else:\n",
    "        return max(a,b)\n",
    "    "
   ]
  },
  {
   "cell_type": "code",
   "execution_count": 86,
   "id": "c324c3ce-4526-4931-917a-49bb8b9c3e15",
   "metadata": {},
   "outputs": [
    {
     "name": "stdout",
     "output_type": "stream",
     "text": [
      "2\n",
      "5\n"
     ]
    }
   ],
   "source": [
    "print(lesser_of_two_evens(2,4))\n",
    "print(lesser_of_two_evens(2,5))\n"
   ]
  },
  {
   "cell_type": "code",
   "execution_count": 88,
   "id": "c35a4885-a53f-46ae-9c23-d621e8d0c1c6",
   "metadata": {},
   "outputs": [],
   "source": [
    "#Write a function takes a two-word string and returns True if both words begin with same letter\n",
    "\n",
    "def check_first_letter(string):\n",
    "    out_list = string.split()\n",
    "    return out_list[0][0] == out_list[1][0]"
   ]
  },
  {
   "cell_type": "code",
   "execution_count": 90,
   "id": "a7620308-b8e7-4673-94b5-1e0d551eee70",
   "metadata": {},
   "outputs": [
    {
     "data": {
      "text/plain": [
       "True"
      ]
     },
     "execution_count": 90,
     "metadata": {},
     "output_type": "execute_result"
    }
   ],
   "source": [
    "check_first_letter('Levelheaded Llama')"
   ]
  },
  {
   "cell_type": "code",
   "execution_count": 92,
   "id": "a7e7832e-991b-4de6-9b18-63f3fa9e9efe",
   "metadata": {},
   "outputs": [],
   "source": [
    "#Given two integers, return True if the sum of the integers is 20 or if one of the integers is 20. If not, return False\n",
    "\n",
    "def check_twenty(a,b):\n",
    "    return sum((a,b)) == 20 or 20 in (a,b)"
   ]
  },
  {
   "cell_type": "code",
   "execution_count": 94,
   "id": "b3dcc641-9139-467c-83f2-8ba10ba0136f",
   "metadata": {},
   "outputs": [
    {
     "data": {
      "text/plain": [
       "True"
      ]
     },
     "execution_count": 94,
     "metadata": {},
     "output_type": "execute_result"
    }
   ],
   "source": [
    "check_twenty(10,10)"
   ]
  },
  {
   "cell_type": "code",
   "execution_count": 96,
   "id": "110393eb-ac23-4341-ad58-3a7d042533df",
   "metadata": {},
   "outputs": [
    {
     "data": {
      "text/plain": [
       "True"
      ]
     },
     "execution_count": 96,
     "metadata": {},
     "output_type": "execute_result"
    }
   ],
   "source": [
    "check_twenty(20,13)"
   ]
  },
  {
   "cell_type": "code",
   "execution_count": 100,
   "id": "992fd22e-8f98-49ab-bb02-28adbb7e0069",
   "metadata": {},
   "outputs": [
    {
     "data": {
      "text/plain": [
       "False"
      ]
     },
     "execution_count": 100,
     "metadata": {},
     "output_type": "execute_result"
    }
   ],
   "source": [
    "check_twenty(14,15)"
   ]
  },
  {
   "cell_type": "code",
   "execution_count": 102,
   "id": "0015aaec-33f3-4c3b-8492-92a18fb419ec",
   "metadata": {},
   "outputs": [],
   "source": [
    "#Write a function that capitalizes the first and fourth letters of a name\n",
    "\n",
    "def old_macdonald(name):\n",
    "    out_list = []\n",
    "    for loc, w in enumerate(name):\n",
    "        if loc == 0 or loc == 3:\n",
    "            out_list.append(w.upper())\n",
    "        else:\n",
    "            out_list.append(w.lower())\n",
    "    return ''.join(out_list)"
   ]
  },
  {
   "cell_type": "code",
   "execution_count": 104,
   "id": "63d11c33-4ff3-4c13-9fd2-8a93e48dce1a",
   "metadata": {},
   "outputs": [
    {
     "data": {
      "text/plain": [
       "'MacDonald'"
      ]
     },
     "execution_count": 104,
     "metadata": {},
     "output_type": "execute_result"
    }
   ],
   "source": [
    "old_macdonald('macdonald')"
   ]
  },
  {
   "cell_type": "code",
   "execution_count": 106,
   "id": "af27ce2e-dc44-476a-9467-657dc8be1839",
   "metadata": {},
   "outputs": [
    {
     "data": {
      "text/plain": [
       "'MacLaurin'"
      ]
     },
     "execution_count": 106,
     "metadata": {},
     "output_type": "execute_result"
    }
   ],
   "source": [
    "old_macdonald('maclaurin')"
   ]
  },
  {
   "cell_type": "code",
   "execution_count": 110,
   "id": "1b44a39d-3c8e-4a7c-9514-c67b53d7e066",
   "metadata": {},
   "outputs": [],
   "source": [
    "#Given a sentence, return a sentence with the words reversed\n",
    "\n",
    "def rev_sen(string):\n",
    "    out_list = string.split()\n",
    "    return ' '.join(out_list[::-1])"
   ]
  },
  {
   "cell_type": "code",
   "execution_count": 112,
   "id": "11c85a21-4dc8-4698-9241-a6ec8670e9cc",
   "metadata": {},
   "outputs": [
    {
     "data": {
      "text/plain": [
       "'side other the from Hello'"
      ]
     },
     "execution_count": 112,
     "metadata": {},
     "output_type": "execute_result"
    }
   ],
   "source": [
    "rev_sen('Hello from the other side')"
   ]
  },
  {
   "cell_type": "code",
   "execution_count": 114,
   "id": "7b3ca256-b1a0-48a4-92f2-136ea2555b44",
   "metadata": {},
   "outputs": [],
   "source": [
    "#Given an integer n, return True if n is within 10 of either 100 or 200\n",
    "\n",
    "def within_reach(n):\n",
    "    return (abs(100-n)) <= 10 or (abs(200-n)) <= 10"
   ]
  },
  {
   "cell_type": "code",
   "execution_count": 116,
   "id": "50740f55-74b0-4c40-b036-ed47c88b34fc",
   "metadata": {},
   "outputs": [
    {
     "data": {
      "text/plain": [
       "True"
      ]
     },
     "execution_count": 116,
     "metadata": {},
     "output_type": "execute_result"
    }
   ],
   "source": [
    "within_reach(210)"
   ]
  },
  {
   "cell_type": "code",
   "execution_count": 118,
   "id": "928e7227-0d29-4610-b027-a40092861202",
   "metadata": {},
   "outputs": [
    {
     "data": {
      "text/plain": [
       "True"
      ]
     },
     "execution_count": 118,
     "metadata": {},
     "output_type": "execute_result"
    }
   ],
   "source": [
    "within_reach(190)"
   ]
  },
  {
   "cell_type": "code",
   "execution_count": 128,
   "id": "ac24c568-991d-45ce-b413-13fcee7e6da6",
   "metadata": {},
   "outputs": [],
   "source": [
    "#Given a list of ints, return True if the array contains a 3 next to a 3 somewhere.\n",
    "\n",
    "def check_33(mylist):\n",
    "    for i in range(0,len(mylist)-1):\n",
    "        if mylist[i] == 3 and mylist[i+1] ==3:\n",
    "            return True\n",
    "    return False"
   ]
  },
  {
   "cell_type": "code",
   "execution_count": 130,
   "id": "96cc6d89-bd30-4428-b394-bf5fe194999d",
   "metadata": {},
   "outputs": [
    {
     "data": {
      "text/plain": [
       "False"
      ]
     },
     "execution_count": 130,
     "metadata": {},
     "output_type": "execute_result"
    }
   ],
   "source": [
    "check_33([3,6,8])"
   ]
  },
  {
   "cell_type": "code",
   "execution_count": 132,
   "id": "9d435ee0-f7b1-4726-ab73-028eb971552f",
   "metadata": {},
   "outputs": [
    {
     "data": {
      "text/plain": [
       "True"
      ]
     },
     "execution_count": 132,
     "metadata": {},
     "output_type": "execute_result"
    }
   ],
   "source": [
    "check_33([6,3,3,10])"
   ]
  },
  {
   "cell_type": "code",
   "execution_count": 134,
   "id": "3f54a05f-1224-41fa-80e0-635f20a626fb",
   "metadata": {},
   "outputs": [],
   "source": [
    "#Given a string, return a string where for every character in the original there are three characters\n",
    "\n",
    "def rep_word(string):\n",
    "    out_str = ''\n",
    "    for w in string:\n",
    "        out_str += w*3\n",
    "    return out_str"
   ]
  },
  {
   "cell_type": "code",
   "execution_count": 136,
   "id": "76774408-2d6d-47ac-a9cb-06700d47e828",
   "metadata": {},
   "outputs": [
    {
     "data": {
      "text/plain": [
       "'hhheeellllllooo'"
      ]
     },
     "execution_count": 136,
     "metadata": {},
     "output_type": "execute_result"
    }
   ],
   "source": [
    "rep_word('hello')"
   ]
  },
  {
   "cell_type": "code",
   "execution_count": 142,
   "id": "eb865582-d647-4d9f-9a7f-82d0bca7f338",
   "metadata": {},
   "outputs": [],
   "source": [
    "#BLACKJACK: Given three integers between 1 and 11, if their sum is less than or equal to 21, \n",
    "#return their sum. If their sum exceeds 21 and there's an eleven, reduce the total sum by 10. \n",
    "#Finally, if the sum (even after adjustment) exceeds 21, return 'BUST'\n",
    "\n",
    "def blackjack(a,b,c):\n",
    "    if sum((a,b,c)) <=21:\n",
    "        return sum((a,b,c))\n",
    "    elif sum((a,b,c)) > 21 and 11 in (a,b,c):\n",
    "        return sum((a,b,c)) - 10\n",
    "    else:\n",
    "        return 'BUST'\n",
    "\n"
   ]
  },
  {
   "cell_type": "code",
   "execution_count": 144,
   "id": "08e7a0d9-c521-4c1a-92f5-3b8c0d5f14ed",
   "metadata": {},
   "outputs": [
    {
     "name": "stdout",
     "output_type": "stream",
     "text": [
      "18\n",
      "BUST\n",
      "19\n"
     ]
    }
   ],
   "source": [
    "print(blackjack(5,6,7))\n",
    "print(blackjack(9,9,9))\n",
    "print(blackjack(9,9,11))"
   ]
  },
  {
   "cell_type": "code",
   "execution_count": 146,
   "id": "838be566-e30a-4ce6-a325-660949434904",
   "metadata": {},
   "outputs": [],
   "source": [
    "#SUMMER OF '69: Return the sum of the numbers in the array, except ignore sections of numbers starting with a 6 and extending to the next 9\n",
    "#(every 6 will be followed by at least one 9). Return 0 for no numbers.\n",
    "\n",
    "def summer_69(arr):\n",
    "    total = 0\n",
    "    add = True\n",
    "    for num in arr:\n",
    "        while add:\n",
    "            if num != 6:\n",
    "                total += num\n",
    "                break\n",
    "            else:\n",
    "                add = False\n",
    "        while not add:\n",
    "            if num != 9:\n",
    "                break\n",
    "            else:\n",
    "                add = True\n",
    "                break\n",
    "    return total"
   ]
  },
  {
   "cell_type": "code",
   "execution_count": 151,
   "id": "cef84110-532a-4587-b3e9-10c6055d38c9",
   "metadata": {},
   "outputs": [
    {
     "data": {
      "text/plain": [
       "9"
      ]
     },
     "execution_count": 151,
     "metadata": {},
     "output_type": "execute_result"
    }
   ],
   "source": [
    "summer_69([4, 5, 6, 7, 8, 9])"
   ]
  },
  {
   "cell_type": "code",
   "execution_count": 157,
   "id": "09bea9e3-14b9-487f-b76c-fd3abf79f4f4",
   "metadata": {},
   "outputs": [],
   "source": [
    "#SPY GAME: Write a function that takes in a list of integers and returns True if it contains 007 in order\n",
    "\n",
    "def spy_game(mylist):\n",
    "    check_list = [0,0,7]\n",
    "    out_list =[]\n",
    "    for i in mylist:\n",
    "        if i == 0 or i == 7:\n",
    "            out_list.append(i)\n",
    "    return check_list == out_list"
   ]
  },
  {
   "cell_type": "code",
   "execution_count": 159,
   "id": "c2c0638f-eed9-49e1-aa75-b1a0cdca784f",
   "metadata": {},
   "outputs": [
    {
     "data": {
      "text/plain": [
       "False"
      ]
     },
     "execution_count": 159,
     "metadata": {},
     "output_type": "execute_result"
    }
   ],
   "source": [
    "spy_game([1,7,2,0,4,5,0])"
   ]
  },
  {
   "cell_type": "code",
   "execution_count": 161,
   "id": "c2191649-af46-4cdc-a338-19941857beab",
   "metadata": {},
   "outputs": [
    {
     "data": {
      "text/plain": [
       "True"
      ]
     },
     "execution_count": 161,
     "metadata": {},
     "output_type": "execute_result"
    }
   ],
   "source": [
    "spy_game([1,0,2,4,0,5,7])"
   ]
  },
  {
   "cell_type": "code",
   "execution_count": null,
   "id": "de07453d-3244-4ca9-b815-7146333dc2ac",
   "metadata": {},
   "outputs": [],
   "source": []
  }
 ],
 "metadata": {
  "kernelspec": {
   "display_name": "Python 3 (ipykernel)",
   "language": "python",
   "name": "python3"
  },
  "language_info": {
   "codemirror_mode": {
    "name": "ipython",
    "version": 3
   },
   "file_extension": ".py",
   "mimetype": "text/x-python",
   "name": "python",
   "nbconvert_exporter": "python",
   "pygments_lexer": "ipython3",
   "version": "3.12.7"
  }
 },
 "nbformat": 4,
 "nbformat_minor": 5
}
