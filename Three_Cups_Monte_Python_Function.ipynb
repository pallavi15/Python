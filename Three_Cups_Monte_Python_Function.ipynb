{
 "cells": [
  {
   "cell_type": "markdown",
   "id": "1b647ff0-79bd-4ce4-bd65-b4f1901dc532",
   "metadata": {},
   "source": [
    "### Create a python function that can be used to play \"three cups monte\" game\n",
    "\n",
    "1) a function that shuffles a list [' ', 'O', ' '] to change the location of 'O'\n",
    "2) a function that recevies a guess for index loction of 'O' between 0,1,2\n",
    "3) a function that checks the guess and actual index location og 'O'"
   ]
  },
  {
   "cell_type": "code",
   "execution_count": 19,
   "id": "8aa91661-a8eb-48d8-b20e-7a1d2acc1dfa",
   "metadata": {},
   "outputs": [],
   "source": [
    "#1 Shuffle function to shuffle a list [' ', 'O', ' ']\n",
    "\n",
    "from random import shuffle\n",
    "\n",
    "def shuffle_list(my_list):\n",
    "    shuffle(my_list)\n",
    "    return my_list"
   ]
  },
  {
   "cell_type": "code",
   "execution_count": 21,
   "id": "f1ad20f2-8c29-4a30-9658-9a4a1c0a04da",
   "metadata": {},
   "outputs": [
    {
     "data": {
      "text/plain": [
       "[' ', ' ', 'O']"
      ]
     },
     "execution_count": 21,
     "metadata": {},
     "output_type": "execute_result"
    }
   ],
   "source": [
    "list_1 = [' ', 'O', ' ']\n",
    "new_list = shuffle_list(list_1)\n",
    "new_list"
   ]
  },
  {
   "cell_type": "code",
   "execution_count": 32,
   "id": "e06efc68-2631-49ef-9c9b-b42c2572c2e9",
   "metadata": {},
   "outputs": [],
   "source": [
    "#2 guess fuction to receive the guss of index location\n",
    "\n",
    "def guess_loc():\n",
    "    guess = ''\n",
    "    while guess not in ['0','1','2']:\n",
    "        guess = input('pick a number between 0,1 or 2 :')\n",
    "\n",
    "    return int(guess)"
   ]
  },
  {
   "cell_type": "code",
   "execution_count": 34,
   "id": "264318e9-9e5a-4550-abe1-16ccaeec37d3",
   "metadata": {},
   "outputs": [
    {
     "name": "stdin",
     "output_type": "stream",
     "text": [
      "pick a number between 0,1 or 2 : 0\n"
     ]
    },
    {
     "data": {
      "text/plain": [
       "0"
      ]
     },
     "execution_count": 34,
     "metadata": {},
     "output_type": "execute_result"
    }
   ],
   "source": [
    "guess_loc()"
   ]
  },
  {
   "cell_type": "code",
   "execution_count": 38,
   "id": "9f5140b3-ffe9-4dbc-a248-716d60d2e862",
   "metadata": {},
   "outputs": [],
   "source": [
    "#3 check the guess and actual index location og 'O'\n",
    "\n",
    "def check_guess(my_list,guess):\n",
    "    if my_list[guess] == 'O':\n",
    "        print('Correct Guess!')\n",
    "    else:\n",
    "        print('Wrong Guess!')\n",
    "        print(my_list)"
   ]
  },
  {
   "cell_type": "code",
   "execution_count": 40,
   "id": "0a69a699-c7e2-4f69-8de9-4ad7f4cc5a38",
   "metadata": {},
   "outputs": [
    {
     "name": "stdin",
     "output_type": "stream",
     "text": [
      "pick a number between 0,1 or 2 : 2\n"
     ]
    },
    {
     "name": "stdout",
     "output_type": "stream",
     "text": [
      "Correct Guess!\n"
     ]
    }
   ],
   "source": [
    "# lets play Three Cups Monte Game\n",
    "\n",
    "#Initial List\n",
    "my_list = [' ', 'O', ' ']\n",
    "\n",
    "#shuffle the list\n",
    "shuffled_list = shuffle_list(my_list)\n",
    "\n",
    "#pick a guess\n",
    "guess = guess_loc()\n",
    "\n",
    "#Final result\n",
    "check_guess(shuffled_list,guess)"
   ]
  },
  {
   "cell_type": "code",
   "execution_count": null,
   "id": "5f8d7df5-2171-4c96-b70a-f23b64ecb752",
   "metadata": {},
   "outputs": [],
   "source": []
  }
 ],
 "metadata": {
  "kernelspec": {
   "display_name": "Python 3 (ipykernel)",
   "language": "python",
   "name": "python3"
  },
  "language_info": {
   "codemirror_mode": {
    "name": "ipython",
    "version": 3
   },
   "file_extension": ".py",
   "mimetype": "text/x-python",
   "name": "python",
   "nbconvert_exporter": "python",
   "pygments_lexer": "ipython3",
   "version": "3.12.7"
  }
 },
 "nbformat": 4,
 "nbformat_minor": 5
}
